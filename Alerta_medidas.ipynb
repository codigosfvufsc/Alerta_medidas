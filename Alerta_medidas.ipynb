{
 "cells": [
  {
   "cell_type": "markdown",
   "metadata": {},
   "source": [
    "Consulta o banco de dados e salva em csv cada tabela"
   ]
  },
  {
   "cell_type": "code",
   "execution_count": null,
   "metadata": {},
   "outputs": [],
   "source": [
    "from sqlalchemy import create_engine, text, MetaData\n",
    "import pandas as pd\n",
    "import os\n",
    "\n",
    "save_path = r\"C:\\Users\\acaro\\OneDrive\\Documents\\Codigos_GIT\"\n",
    "# Database connection\n",
    "engine = create_engine(\n",
    "    \"endereço da base\", \n",
    "    echo=False\n",
    ")\n",
    "\n",
    "# Query to get table names\n",
    "table_query = text(\n",
    "    \"SELECT tablename FROM pg_tables WHERE tablename LIKE '%_POS%' AND tablename NOT LIKE '%OLD%' AND schemaname = 'public'\"\n",
    ")\n",
    "\n",
    "# Metadata object for database reflection\n",
    "metadata = MetaData()\n",
    "\n",
    "with engine.connect() as conn:\n",
    "    # Execute the query to get table names\n",
    "    table_names = conn.execute(table_query).fetchall()\n",
    "\n",
    "    # Iterate through table names and export each to a CSV file\n",
    "    for table_name in table_names:\n",
    "        print(table_name)\n",
    "        table_name = table_name[0]  # Get the table name string from the result\n",
    "        query = f'SELECT * FROM \"{table_name}\"'  # Query to select all data from the table\n",
    "        df = pd.read_sql(query, conn)  # Read the table into a DataFrame\n",
    "        csv_file_name = f\"\\\\{table_name.replace('/', '_')}.csv\"\n",
    "        final_save_path = save_path + csv_file_name        \n",
    "\n",
    "        df.to_csv(final_save_path, index=False)  # Save DataFrame to CSV\n",
    "\n",
    "print(\"CSV files have been created.\")"
   ]
  }
 ],
 "metadata": {
  "language_info": {
   "name": "python"
  }
 },
 "nbformat": 4,
 "nbformat_minor": 2
}
