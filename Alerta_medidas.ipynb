{
 "cells": [
  {
   "cell_type": "markdown",
   "metadata": {},
   "source": [
    "Consulta o banco de dados e salva em csv cada tabela"
   ]
  },
  {
   "cell_type": "code",
   "execution_count": 1,
   "metadata": {},
   "outputs": [
    {
     "name": "stdout",
     "output_type": "stream",
     "text": [
      "2024-05-13 08:49:00\n",
      "('A231107A-023/M_POS16_2023-12-21',)\n",
      "('A240305F-732_POS01_2024-04-20',)\n",
      "('A240305F-351_POS02_2024-04-20',)\n",
      "('A240312F-041_POS04_2024-04-20',)\n",
      "('A240312F-062_POS06_2024-04-20',)\n",
      "('A240320F-028_POS08_2024-04-20',)\n",
      "('A240305F-731_POS03_2024-04-20',)\n",
      "('A240312F-061_POS05_2024-04-20',)\n",
      "('A240305F-111_POS10_2024-04-20',)\n",
      "('A240320F-006_POS12_2024-04-20',)\n",
      "('A240305F-062_POS14_2024-04-20',)\n",
      "('A240305F-061_POS17_2024-04-20',)\n",
      "('A240312F-002_POS18_2024-04-20',)\n",
      "('A240312F-151_POS07_2024-04-20',)\n",
      "('A240312F-132_POS09_2024-04-20',)\n",
      "('A240320F-004_POS11_2024-04-20',)\n",
      "('A240305F-073_POS13_2024-04-20',)\n",
      "('A240312F-001_POS15_2024-04-20',)\n",
      "CSV files have been created.\n"
     ]
    }
   ],
   "source": [
    "from sqlalchemy import create_engine, text\n",
    "import pandas as pd\n",
    "from datetime import timedelta\n",
    "import os\n",
    "\n",
    "save_path = r\"endereço de salvamento\"\n",
    "# Database connection\n",
    "engine = create_engine(\n",
    "    \"endereço base de dados\", \n",
    "    echo=False\n",
    ")\n",
    "#lista de nomes possíveis para as colunas\n",
    "nomes_coluna = [\"Impp\", \"IV Point[3f612]-i\", \"IV Point[a9112]-i\"]\n",
    "\n",
    "# Defina o limite de tempo\n",
    "tempo_limite = pd.Timestamp.now().floor('s') - timedelta(minutes=33)\n",
    "print(tempo_limite)\n",
    "\n",
    "# Query to get table names\n",
    "table_query = text(\n",
    "    \"SELECT tablename FROM pg_tables WHERE tablename LIKE '%_POS%' AND tablename NOT LIKE '%OLD%' AND schemaname = 'public'\"\n",
    ")\n",
    "\n",
    "with engine.connect() as conn:\n",
    "    # Execute the query to get table names\n",
    "    table_names = conn.execute(table_query).fetchall()\n",
    "\n",
    "    # Iterate through table names and export each to a CSV file\n",
    "    for table_name in table_names:\n",
    "        print(table_name)\n",
    "        table_name = table_name[0]  # Get the table name string from the result\n",
    "\n",
    "        # Create a flag to check if any column was found\n",
    "        column_found = False\n",
    "\n",
    "        # Iterate through possible column names\n",
    "        for col_name in nomes_coluna:\n",
    "            # Check if the column exists in the table\n",
    "            query = text(f'SELECT column_name FROM information_schema.columns WHERE table_name = :table_name AND column_name = :col_name')\n",
    "            result = conn.execute(query, {'table_name': table_name, 'col_name': col_name}).fetchone()\n",
    "            \n",
    "            if result:  # If the column exists\n",
    "                query = text(f'SELECT \"TIMESTAMP\", \"{col_name}\" FROM \"{table_name}\"  WHERE \"TIMESTAMP\" >= :tempo_limite')\n",
    "                df = pd.read_sql(query, conn, params={'tempo_limite': tempo_limite})  # Read the table into a DataFrame\n",
    "                csv_file_name = f\"\\\\{table_name.replace('/', '_')}-{col_name}.csv\"\n",
    "                final_save_path = save_path + csv_file_name        \n",
    "\n",
    "                df.to_csv(final_save_path, index=False)  # Save DataFrame to CSV\n",
    "                column_found = True  # Set flag to True\n",
    "\n",
    "        # Check if no columns were found\n",
    "        if not column_found:\n",
    "            print(f\"No matching columns found in table {table_name}\")\n",
    "\n",
    "print(\"CSV files have been created.\")\n"
   ]
  }
 ],
 "metadata": {
  "kernelspec": {
   "display_name": "Python 3",
   "language": "python",
   "name": "python3"
  },
  "language_info": {
   "codemirror_mode": {
    "name": "ipython",
    "version": 3
   },
   "file_extension": ".py",
   "mimetype": "text/x-python",
   "name": "python",
   "nbconvert_exporter": "python",
   "pygments_lexer": "ipython3",
   "version": "3.12.1"
  }
 },
 "nbformat": 4,
 "nbformat_minor": 2
}
